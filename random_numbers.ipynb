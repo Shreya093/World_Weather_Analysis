{
 "cells": [
  {
   "cell_type": "code",
   "execution_count": 1,
   "id": "6673bd76-4461-4873-94e0-e0aa3dcaa8cb",
   "metadata": {},
   "outputs": [],
   "source": [
    "# Import the random module.\n",
    "import random"
   ]
  },
  {
   "cell_type": "code",
   "execution_count": 2,
   "id": "2521340a-b4ed-4ada-b326-9ea005292dd3",
   "metadata": {},
   "outputs": [
    {
     "data": {
      "text/plain": [
       "87"
      ]
     },
     "execution_count": 2,
     "metadata": {},
     "output_type": "execute_result"
    }
   ],
   "source": [
    "random.randint(-90,90)"
   ]
  },
  {
   "cell_type": "code",
   "execution_count": 3,
   "id": "29fb1d7d-b66b-4c70-99d0-6ac6e2b0ff63",
   "metadata": {},
   "outputs": [
    {
     "data": {
      "text/plain": [
       "0.8282831414459946"
      ]
     },
     "execution_count": 3,
     "metadata": {},
     "output_type": "execute_result"
    }
   ],
   "source": [
    "random.random()"
   ]
  },
  {
   "cell_type": "code",
   "execution_count": 4,
   "id": "06a8942a-2f01-472d-8365-7e169b4710d0",
   "metadata": {},
   "outputs": [
    {
     "data": {
      "text/plain": [
       "-77.96385543170119"
      ]
     },
     "execution_count": 4,
     "metadata": {},
     "output_type": "execute_result"
    }
   ],
   "source": [
    "random_number = random.randint(-90,89) + random.random()\n",
    "random_number"
   ]
  },
  {
   "cell_type": "code",
   "execution_count": 7,
   "id": "7b26cb7e-7634-40af-9196-959e16e0e813",
   "metadata": {},
   "outputs": [
    {
     "data": {
      "text/plain": [
       "[-45.67084478969434,\n",
       " -18.54987768668257,\n",
       " 52.441434408751576,\n",
       " -13.14915915180377,\n",
       " 76.91649589223489,\n",
       " 59.28653335090065,\n",
       " 36.575191034764984,\n",
       " -42.81406102329589,\n",
       " -8.072003451014213,\n",
       " -9.213804225564093]"
      ]
     },
     "execution_count": 7,
     "metadata": {},
     "output_type": "execute_result"
    }
   ],
   "source": [
    "x = 1\n",
    "latitudes = []\n",
    "\n",
    "while x < 11:\n",
    "    random_lat = random.randint(-90,89) + random.random()\n",
    "    latitudes.append(random_lat)\n",
    "    x+=1\n",
    "    \n",
    "latitudes"
   ]
  },
  {
   "cell_type": "code",
   "execution_count": 11,
   "id": "8233b714-824a-457e-9df3-0f657445eee6",
   "metadata": {},
   "outputs": [
    {
     "data": {
      "text/plain": [
       "31"
      ]
     },
     "execution_count": 11,
     "metadata": {},
     "output_type": "execute_result"
    }
   ],
   "source": [
    "random.randrange(-90, 90, step=1)"
   ]
  },
  {
   "cell_type": "code",
   "execution_count": 13,
   "id": "861be694-bf32-41ca-b73d-49f700c2fe61",
   "metadata": {},
   "outputs": [
    {
     "data": {
      "text/plain": [
       "-24"
      ]
     },
     "execution_count": 13,
     "metadata": {},
     "output_type": "execute_result"
    }
   ],
   "source": [
    "random.randrange(-90, 90, step=3)"
   ]
  },
  {
   "cell_type": "code",
   "execution_count": 14,
   "id": "2f25d458-3c14-4a2a-9371-834962c92260",
   "metadata": {},
   "outputs": [
    {
     "data": {
      "text/plain": [
       "54.34337703756748"
      ]
     },
     "execution_count": 14,
     "metadata": {},
     "output_type": "execute_result"
    }
   ],
   "source": [
    "random.uniform(-90, 90)"
   ]
  },
  {
   "cell_type": "code",
   "execution_count": 15,
   "id": "17b7489f-6c76-472b-8534-4f22be905d4b",
   "metadata": {},
   "outputs": [],
   "source": [
    "# Import the NumPy module.\n",
    "import numpy as np"
   ]
  },
  {
   "cell_type": "code",
   "execution_count": 16,
   "id": "81a71f3a-791d-45df-833b-6dc63905e0cc",
   "metadata": {},
   "outputs": [
    {
     "data": {
      "text/plain": [
       "41.132142858166844"
      ]
     },
     "execution_count": 16,
     "metadata": {},
     "output_type": "execute_result"
    }
   ],
   "source": [
    "np.random.uniform(-90.000, 90.000)"
   ]
  },
  {
   "cell_type": "code",
   "execution_count": 17,
   "id": "d5528293-723b-4b2f-969b-e29129c4af64",
   "metadata": {},
   "outputs": [
    {
     "data": {
      "text/plain": [
       "array([ 30.36451572,  68.39679392, -21.37446803, -87.26980576,\n",
       "       -47.16096123, -21.21622218, -71.04005233, -56.939976  ,\n",
       "       -53.22256363,  54.59689219,  54.81279295,  16.73035345,\n",
       "         9.16568579,  75.13641961, -47.67480317,  -5.42820054,\n",
       "        29.48766944,  -6.80473767,  88.45607391, -35.77805387,\n",
       "        79.35632144,  13.65790083,  89.53199013, -66.96063907,\n",
       "       -66.16017357, -48.61374572, -53.17412325,  37.11304368,\n",
       "       -45.23610976,  -1.94576799,  28.5424777 , -35.00546328,\n",
       "       -79.87761611, -87.11154064,  54.35675701,  73.23490483,\n",
       "       -32.96601443,  51.07299031,   1.84215197,  12.79051341,\n",
       "        -6.89696668, -82.8870412 , -44.6716823 ,   5.86430252,\n",
       "        11.71902338, -66.13901879, -54.77446624,  62.91840767,\n",
       "       -85.76471636,  62.51417572])"
      ]
     },
     "execution_count": 17,
     "metadata": {},
     "output_type": "execute_result"
    }
   ],
   "source": [
    "np.random.uniform(-90.000, 90.000,size=50)"
   ]
  },
  {
   "cell_type": "code",
   "execution_count": 18,
   "id": "26ffff7e-d627-4c3c-98cd-3b0b2fd78c80",
   "metadata": {},
   "outputs": [],
   "source": [
    "# Import timeit.\n",
    "import timeit"
   ]
  },
  {
   "cell_type": "code",
   "execution_count": 19,
   "id": "3fef6e18-bd61-4cd3-9c0e-ae0bda0e8bad",
   "metadata": {},
   "outputs": [
    {
     "name": "stdout",
     "output_type": "stream",
     "text": [
      "14.8 µs ± 1.04 µs per loop (mean ± std. dev. of 7 runs, 100000 loops each)\n"
     ]
    }
   ],
   "source": [
    "%timeit np.random.uniform(-90.000,90.000,size=1500)"
   ]
  },
  {
   "cell_type": "code",
   "execution_count": 20,
   "id": "e366c3cb-25e9-4852-b4ef-3a64c4f50755",
   "metadata": {},
   "outputs": [
    {
     "name": "stdout",
     "output_type": "stream",
     "text": [
      "1.33 ms ± 2.59 µs per loop (mean ± std. dev. of 7 runs, 1000 loops each)\n"
     ]
    }
   ],
   "source": [
    "def latitudes(size):\n",
    "    latitudes = []\n",
    "    x = 0\n",
    "    while x < (size):\n",
    "        random_lat = random.randint(-90, 90) + random.random()\n",
    "        latitudes.append(random_lat)\n",
    "        x += 1\n",
    "    return latitudes\n",
    "# Call the function with 1500.\n",
    "%timeit latitudes(1500)"
   ]
  },
  {
   "cell_type": "code",
   "execution_count": null,
   "id": "6187d336-3675-43a2-84cc-4ee4d8cbafb2",
   "metadata": {},
   "outputs": [],
   "source": []
  }
 ],
 "metadata": {
  "kernelspec": {
   "display_name": "PythonData",
   "language": "python",
   "name": "pythondata"
  },
  "language_info": {
   "codemirror_mode": {
    "name": "ipython",
    "version": 3
   },
   "file_extension": ".py",
   "mimetype": "text/x-python",
   "name": "python",
   "nbconvert_exporter": "python",
   "pygments_lexer": "ipython3",
   "version": "3.8.8"
  }
 },
 "nbformat": 4,
 "nbformat_minor": 5
}
