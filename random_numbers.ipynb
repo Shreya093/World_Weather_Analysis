{
 "cells": [
  {
   "cell_type": "code",
   "execution_count": 1,
   "id": "6673bd76-4461-4873-94e0-e0aa3dcaa8cb",
   "metadata": {},
   "outputs": [],
   "source": [
    "# Import the random module.\n",
    "import random"
   ]
  },
  {
   "cell_type": "code",
   "execution_count": 2,
   "id": "2521340a-b4ed-4ada-b326-9ea005292dd3",
   "metadata": {},
   "outputs": [
    {
     "data": {
      "text/plain": [
       "16"
      ]
     },
     "execution_count": 2,
     "metadata": {},
     "output_type": "execute_result"
    }
   ],
   "source": [
    "random.randint(-90,90)"
   ]
  },
  {
   "cell_type": "code",
   "execution_count": 3,
   "id": "29fb1d7d-b66b-4c70-99d0-6ac6e2b0ff63",
   "metadata": {},
   "outputs": [
    {
     "data": {
      "text/plain": [
       "0.1330103842105066"
      ]
     },
     "execution_count": 3,
     "metadata": {},
     "output_type": "execute_result"
    }
   ],
   "source": [
    "random.random()"
   ]
  },
  {
   "cell_type": "code",
   "execution_count": 4,
   "id": "06a8942a-2f01-472d-8365-7e169b4710d0",
   "metadata": {},
   "outputs": [
    {
     "data": {
      "text/plain": [
       "60.33234645141707"
      ]
     },
     "execution_count": 4,
     "metadata": {},
     "output_type": "execute_result"
    }
   ],
   "source": [
    "random_number = random.randint(-90,89) + random.random()\n",
    "random_number"
   ]
  },
  {
   "cell_type": "code",
   "execution_count": 5,
   "id": "7b26cb7e-7634-40af-9196-959e16e0e813",
   "metadata": {},
   "outputs": [
    {
     "data": {
      "text/plain": [
       "[-29.381060763155233,\n",
       " 46.01551335572167,\n",
       " -49.99420653004224,\n",
       " 70.89076221515955,\n",
       " -33.78142622503334,\n",
       " 9.11604221593712,\n",
       " -13.276146510596357,\n",
       " 25.78863443327791,\n",
       " 28.33817963196879,\n",
       " 18.729021714181563]"
      ]
     },
     "execution_count": 5,
     "metadata": {},
     "output_type": "execute_result"
    }
   ],
   "source": [
    "x = 1\n",
    "latitudes = []\n",
    "\n",
    "while x < 11:\n",
    "    random_lat = random.randint(-90,89) + random.random()\n",
    "    latitudes.append(random_lat)\n",
    "    x+=1\n",
    "    \n",
    "latitudes"
   ]
  },
  {
   "cell_type": "code",
   "execution_count": 6,
   "id": "8233b714-824a-457e-9df3-0f657445eee6",
   "metadata": {},
   "outputs": [
    {
     "data": {
      "text/plain": [
       "-1"
      ]
     },
     "execution_count": 6,
     "metadata": {},
     "output_type": "execute_result"
    }
   ],
   "source": [
    "random.randrange(-90, 90, step=1)"
   ]
  },
  {
   "cell_type": "code",
   "execution_count": 7,
   "id": "861be694-bf32-41ca-b73d-49f700c2fe61",
   "metadata": {},
   "outputs": [
    {
     "data": {
      "text/plain": [
       "54"
      ]
     },
     "execution_count": 7,
     "metadata": {},
     "output_type": "execute_result"
    }
   ],
   "source": [
    "random.randrange(-90, 90, step=3)"
   ]
  },
  {
   "cell_type": "code",
   "execution_count": 8,
   "id": "2f25d458-3c14-4a2a-9371-834962c92260",
   "metadata": {},
   "outputs": [
    {
     "data": {
      "text/plain": [
       "-78.85717821787712"
      ]
     },
     "execution_count": 8,
     "metadata": {},
     "output_type": "execute_result"
    }
   ],
   "source": [
    "random.uniform(-90, 90)"
   ]
  },
  {
   "cell_type": "code",
   "execution_count": 9,
   "id": "17b7489f-6c76-472b-8534-4f22be905d4b",
   "metadata": {},
   "outputs": [],
   "source": [
    "# Import the NumPy module.\n",
    "import numpy as np"
   ]
  },
  {
   "cell_type": "code",
   "execution_count": 10,
   "id": "81a71f3a-791d-45df-833b-6dc63905e0cc",
   "metadata": {},
   "outputs": [
    {
     "data": {
      "text/plain": [
       "-84.82642565960012"
      ]
     },
     "execution_count": 10,
     "metadata": {},
     "output_type": "execute_result"
    }
   ],
   "source": [
    "np.random.uniform(-90.000, 90.000)"
   ]
  },
  {
   "cell_type": "code",
   "execution_count": 11,
   "id": "d5528293-723b-4b2f-969b-e29129c4af64",
   "metadata": {},
   "outputs": [
    {
     "data": {
      "text/plain": [
       "array([ 48.84321628,  77.46066139,  46.9194432 ,  16.40131787,\n",
       "       -20.54918564,  20.72123165, -65.76166335, -34.99383619,\n",
       "       -88.76225314,  23.50862142, -77.73128373,  72.47950863,\n",
       "        65.45978916, -57.01870568, -27.81752664, -38.02517917,\n",
       "       -17.70524591, -19.2973515 , -75.33118696, -72.7028796 ,\n",
       "         6.77580289, -68.14893935, -71.66738653,  15.13440926,\n",
       "       -71.07475486,  72.11252485,  39.6348376 , -65.72782202,\n",
       "       -63.95178082,  70.34187864,  23.36060842, -57.02252752,\n",
       "        14.05448274, -51.12373368,  49.40806083,  49.06623586,\n",
       "        35.06842924, -33.32847237,  47.42103183,  86.53393625,\n",
       "       -77.75834083,   4.47608831,  49.13426596,  32.9872857 ,\n",
       "       -34.85119187,  89.51706592, -48.80961995,  64.71063468,\n",
       "        -2.68797286,  19.02306583])"
      ]
     },
     "execution_count": 11,
     "metadata": {},
     "output_type": "execute_result"
    }
   ],
   "source": [
    "np.random.uniform(-90.000, 90.000,size=50)"
   ]
  },
  {
   "cell_type": "code",
   "execution_count": 12,
   "id": "26ffff7e-d627-4c3c-98cd-3b0b2fd78c80",
   "metadata": {},
   "outputs": [],
   "source": [
    "# Import timeit.\n",
    "import timeit"
   ]
  },
  {
   "cell_type": "code",
   "execution_count": 13,
   "id": "3fef6e18-bd61-4cd3-9c0e-ae0bda0e8bad",
   "metadata": {},
   "outputs": [
    {
     "name": "stdout",
     "output_type": "stream",
     "text": [
      "14.7 µs ± 595 ns per loop (mean ± std. dev. of 7 runs, 100000 loops each)\n"
     ]
    }
   ],
   "source": [
    "%timeit np.random.uniform(-90.000,90.000,size=1500)"
   ]
  },
  {
   "cell_type": "code",
   "execution_count": 14,
   "id": "e366c3cb-25e9-4852-b4ef-3a64c4f50755",
   "metadata": {},
   "outputs": [
    {
     "name": "stdout",
     "output_type": "stream",
     "text": [
      "1.35 ms ± 24.6 µs per loop (mean ± std. dev. of 7 runs, 1000 loops each)\n"
     ]
    }
   ],
   "source": [
    "def latitudes(size):\n",
    "    latitudes = []\n",
    "    x = 0\n",
    "    while x < (size):\n",
    "        random_lat = random.randint(-90, 90) + random.random()\n",
    "        latitudes.append(random_lat)\n",
    "        x += 1\n",
    "    return latitudes\n",
    "# Call the function with 1500.\n",
    "%timeit latitudes(1500)"
   ]
  },
  {
   "cell_type": "code",
   "execution_count": null,
   "id": "6187d336-3675-43a2-84cc-4ee4d8cbafb2",
   "metadata": {},
   "outputs": [],
   "source": []
  }
 ],
 "metadata": {
  "kernelspec": {
   "display_name": "PythonData",
   "language": "python",
   "name": "pythondata"
  },
  "language_info": {
   "codemirror_mode": {
    "name": "ipython",
    "version": 3
   },
   "file_extension": ".py",
   "mimetype": "text/x-python",
   "name": "python",
   "nbconvert_exporter": "python",
   "pygments_lexer": "ipython3",
   "version": "3.8.8"
  }
 },
 "nbformat": 4,
 "nbformat_minor": 5
}
